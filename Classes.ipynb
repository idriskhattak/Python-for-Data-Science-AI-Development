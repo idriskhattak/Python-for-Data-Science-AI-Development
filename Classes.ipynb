{
  "cells": [
    {
      "cell_type": "markdown",
      "id": "b4cbca9a-4b6c-41ef-a5c3-75a5f29c0beb",
      "metadata": {},
      "outputs": [],
      "source": [
        "<center>\n",
        "    <img src=\"https://cf-courses-data.s3.us.cloud-object-storage.appdomain.cloud/IBMDeveloperSkillsNetwork-PY0101EN-SkillsNetwork/IDSNlogo.png\" width=\"300\" alt=\"cognitiveclass.ai logo\">\n",
        "</center>\n",
        "\n",
        "# Classes and Objects in Python\n",
        "\n",
        "Estimated time needed: **40** minutes\n",
        "\n",
        "## Objectives\n",
        "\n",
        "After completing this lab you will be able to:\n",
        "\n",
        "*   Work with classes and objects\n",
        "*   Identify and define attributes and methods\n"
      ]
    },
    {
      "cell_type": "markdown",
      "id": "444292bb-ea94-48a6-947e-89ce606bec4c",
      "metadata": {},
      "outputs": [],
      "source": [
        "<h2>Table of Contents</h2>\n",
        "<div class=\"alert alert-block alert-info\" style=\"margin-top: 20px\">\n",
        "    <ul>\n",
        "        <li>\n",
        "            <a href=\"https://#intro\">Introduction to Classes and Objects</a>\n",
        "            <ul>\n",
        "                <li><a href=\"https://create/?utm_medium=Exinfluencer&utm_source=Exinfluencer&utm_content=000026UJ&utm_term=10006555&utm_id=NA-SkillsNetwork-Channel-SkillsNetworkCoursesIBMDeveloperSkillsNetworkPY0101ENSkillsNetwork19487395-2021-01-01\">Creating a class</a></li>\n",
        "                <li><a href=\"https://instance/?utm_medium=Exinfluencer&utm_source=Exinfluencer&utm_content=000026UJ&utm_term=10006555&utm_id=NA-SkillsNetwork-Channel-SkillsNetworkCoursesIBMDeveloperSkillsNetworkPY0101ENSkillsNetwork19487395-2021-01-01\">Instances of a Class: Objects and Attributes</a></li>\n",
        "                <li><a href=\"https://method/?utm_medium=Exinfluencer&utm_source=Exinfluencer&utm_content=000026UJ&utm_term=10006555&utm_id=NA-SkillsNetwork-Channel-SkillsNetworkCoursesIBMDeveloperSkillsNetworkPY0101ENSkillsNetwork19487395-2021-01-01\">Methods</a></li>\n",
        "            </ul>\n",
        "        </li>\n",
        "        <li><a href=\"https://creating/?utm_medium=Exinfluencer&utm_source=Exinfluencer&utm_content=000026UJ&utm_term=10006555&utm_id=NA-SkillsNetwork-Channel-SkillsNetworkCoursesIBMDeveloperSkillsNetworkPY0101ENSkillsNetwork19487395-2021-01-01\">Creating a class</a></li>\n",
        "        <li><a href=\"https://circle/?utm_medium=Exinfluencer&utm_source=Exinfluencer&utm_content=000026UJ&utm_term=10006555&utm_id=NA-SkillsNetwork-Channel-SkillsNetworkCoursesIBMDeveloperSkillsNetworkPY0101ENSkillsNetwork19487395-2021-01-01\">Creating an instance of a class Circle</a></li>\n",
        "        <li><a href=\"https://rect/?utm_medium=Exinfluencer&utm_source=Exinfluencer&utm_content=000026UJ&utm_term=10006555&utm_id=NA-SkillsNetwork-Channel-SkillsNetworkCoursesIBMDeveloperSkillsNetworkPY0101ENSkillsNetwork19487395-2021-01-01\">The Rectangle Class</a></li>\n",
        "    </ul>\n",
        "\n",
        "</div>\n",
        "\n",
        "<hr>\n"
      ]
    },
    {
      "cell_type": "markdown",
      "id": "702a3013-5a9c-4372-bbf7-a28e6adb309c",
      "metadata": {},
      "outputs": [],
      "source": [
        "<h2 id=\"intro\">Introduction to Classes and Objects</h2>\n"
      ]
    },
    {
      "cell_type": "markdown",
      "id": "adaa9570-e2d5-4793-9778-97e874fda483",
      "metadata": {},
      "outputs": [],
      "source": [
        "<h3>Creating a Class</h3>\n"
      ]
    },
    {
      "cell_type": "markdown",
      "id": "3cae8812-d478-4bb0-97dd-08e5e00a8946",
      "metadata": {},
      "outputs": [],
      "source": [
        "The first step in creating a class is giving it a name. In this notebook, we will create two classes: Circle and Rectangle. We need to determine all the data that make up that class, which we call <em>attributes</em>. Think about this step as creating a blue print that we will use to create objects. In figure 1 we see two classes, Circle and Rectangle. Each has their attributes, which are variables. The class Circle has the attribute radius and color, while the Rectangle class has the attribute height and width. Let’s use the visual examples of these shapes before we get to the code, as this will help you get accustomed to the vocabulary.\n"
      ]
    },
    {
      "cell_type": "markdown",
      "id": "e0ac61bd-2cde-49d0-99b9-d177871def53",
      "metadata": {},
      "outputs": [],
      "source": [
        "<img src=\"https://cf-courses-data.s3.us.cloud-object-storage.appdomain.cloud/IBMDeveloperSkillsNetwork-PY0101EN-SkillsNetwork/labs/Module%203/images/ClassesClass.png\" width=\"500\">\n"
      ]
    },
    {
      "cell_type": "markdown",
      "id": "1109f585-d346-4aeb-82ea-d56544a90c26",
      "metadata": {},
      "outputs": [],
      "source": [
        "<i>Figure 1: Classes circle and rectangle, and each has their own attributes. The class Circle has the attribute radius and colour, the class Rectangle has the attributes height and width.</i>\n"
      ]
    },
    {
      "cell_type": "markdown",
      "id": "8a2d75fb-4b16-44cd-b463-fd0ec3fe88c1",
      "metadata": {},
      "outputs": [],
      "source": [
        "<h3 id=\"instance\">Instances of a Class: Objects and Attributes</h3>\n"
      ]
    },
    {
      "cell_type": "markdown",
      "id": "dd4b0e5c-eb2f-4d66-a22f-d3d13de8164f",
      "metadata": {},
      "outputs": [],
      "source": [
        "An instance of an object is the realisation of a class, and in Figure 2 we see three instances of the class circle. We give each object a name: red circle, yellow circle, and green circle. Each object has different attributes, so let's focus on the color attribute for each object.\n"
      ]
    },
    {
      "cell_type": "markdown",
      "id": "70c12f83-0816-4b6a-a802-917e5e9d9d7f",
      "metadata": {},
      "outputs": [],
      "source": [
        "<img src=\"https://cf-courses-data.s3.us.cloud-object-storage.appdomain.cloud/IBMDeveloperSkillsNetwork-PY0101EN-SkillsNetwork/labs/Module%203/images/ClassesObj.png\" width=\"500\">\n"
      ]
    },
    {
      "cell_type": "markdown",
      "id": "dd81e871-8654-4eb2-808d-d4d34e67e5b3",
      "metadata": {},
      "outputs": [],
      "source": [
        "<i>Figure 2: Three instances of the class Circle, or three objects of type Circle.</i>\n"
      ]
    },
    {
      "cell_type": "markdown",
      "id": "e54513c0-5335-4fdf-9531-3475a82b8f66",
      "metadata": {},
      "outputs": [],
      "source": [
        "The colour attribute for the red Circle is the colour red, for the green Circle object the colour attribute is green, and for the yellow Circle the colour attribute is yellow.\n"
      ]
    },
    {
      "cell_type": "markdown",
      "id": "82f1319e-0f70-4d06-83a4-123b125395ae",
      "metadata": {},
      "outputs": [],
      "source": [
        "<h3 id=\"method\">Methods</h3>\n"
      ]
    },
    {
      "cell_type": "markdown",
      "id": "60ee241e-5412-4744-9915-e69f2e47d955",
      "metadata": {},
      "outputs": [],
      "source": [
        "Methods give you a way to change or interact with the object; they are functions that interact with objects. For example, let’s say we would like to increase the radius of a circle by a specified amount. We can create a method called **add_radius(r)** that increases the radius by **r**. This is shown in figure 3, where after applying the method to the \"orange circle object\", the radius of the object increases accordingly. The “dot” notation means to apply the method to the object, which is essentially applying a function to the information in the object.\n"
      ]
    },
    {
      "cell_type": "markdown",
      "id": "cb6e2810-22f7-483a-91ff-21dab7a77b72",
      "metadata": {},
      "outputs": [],
      "source": [
        "<img src=\"https://cf-courses-data.s3.us.cloud-object-storage.appdomain.cloud/IBMDeveloperSkillsNetwork-PY0101EN-SkillsNetwork/labs/Module%203/images/ClassesMethod.png\" width=\"500\"> \n"
      ]
    },
    {
      "cell_type": "markdown",
      "id": "983b5191-4850-460c-8d74-747a8f4b5de7",
      "metadata": {},
      "outputs": [],
      "source": [
        "<i>Figure 3: Applying the method “add_radius” to the object orange circle object.</i>\n"
      ]
    },
    {
      "cell_type": "markdown",
      "id": "d2889bb7-052f-4352-b151-5e9451ebdf11",
      "metadata": {},
      "outputs": [],
      "source": [
        "<hr>\n"
      ]
    },
    {
      "cell_type": "markdown",
      "id": "4169bfc3-16bc-4a0f-a6b6-bd757bd58023",
      "metadata": {},
      "outputs": [],
      "source": [
        "<h2 id=\"creating\">Creating a Class</h2>\n"
      ]
    },
    {
      "cell_type": "markdown",
      "id": "b7be5a9d-e9d7-404e-96e4-18494b5f379b",
      "metadata": {},
      "outputs": [],
      "source": [
        "Now we are going to create a class Circle, but first, we are going to import a library to draw the objects:\n"
      ]
    },
    {
      "cell_type": "code",
      "id": "c00a52b5-f470-4b62-bec3-1845ab037de7",
      "metadata": {},
      "outputs": [],
      "source": [
        "# Import the library\n\nimport matplotlib.pyplot as plt\n%matplotlib inline  "
      ]
    },
    {
      "cell_type": "markdown",
      "id": "f320b6fe-1bf2-4904-9776-1c39405891bc",
      "metadata": {},
      "outputs": [],
      "source": [
        "The first step in creating your own class is to use the <code>class</code> keyword, then the name of the class as shown in Figure 4. In this course the class parent will always be object:\n"
      ]
    },
    {
      "cell_type": "markdown",
      "id": "455f099a-deb0-4279-8fc0-b799b5f2e7e7",
      "metadata": {},
      "outputs": [],
      "source": [
        "<img src=\"https://cf-courses-data.s3.us.cloud-object-storage.appdomain.cloud/IBMDeveloperSkillsNetwork-PY0101EN-SkillsNetwork/labs/Module%203/images/ClassesDefine.png\" width=\"400\">\n"
      ]
    },
    {
      "cell_type": "markdown",
      "id": "6f0c2437-a4d0-47d2-a9e2-0b0b125f42c9",
      "metadata": {},
      "outputs": [],
      "source": [
        "<i>Figure 4: Creating a class Circle.</i>\n"
      ]
    },
    {
      "cell_type": "markdown",
      "id": "f2e179c7-85d3-4c80-a2cc-a3af255784cf",
      "metadata": {},
      "outputs": [],
      "source": [
        "The next step is a special method called a constructor <code>\\__init\\_\\_</code>, which is used to initialize the object. The inputs are data attributes. The term <code>self</code> contains all the attributes in the set. For example the <code>self.color</code> gives the value of the attribute color and <code>self.radius</code> will give you the radius of the object. We also have the method <code>add_radius()</code> with the parameter <code>r</code>, the method adds the value of <code>r</code> to the attribute radius. To access the radius we use the syntax <code>self.radius</code>. The labeled syntax is summarized in Figure 5:\n"
      ]
    },
    {
      "cell_type": "markdown",
      "id": "3daebdaf-31f6-49f5-97dd-32a7bd3ba034",
      "metadata": {},
      "outputs": [],
      "source": [
        "<img src=\"https://cf-courses-data.s3.us.cloud-object-storage.appdomain.cloud/IBMDeveloperSkillsNetwork-PY0101EN-SkillsNetwork/labs/Module%203/images/ClassesCircle.png\" width=\"600\">\n"
      ]
    },
    {
      "cell_type": "markdown",
      "id": "f02f2ef8-8aa8-4357-b1fb-a9f2a28c3cf6",
      "metadata": {},
      "outputs": [],
      "source": [
        "<i>Figure 5: Labeled syntax of the object circle.</i>\n"
      ]
    },
    {
      "cell_type": "markdown",
      "id": "d17693f9-1710-400a-a662-b55ca61f0a47",
      "metadata": {},
      "outputs": [],
      "source": [
        "The actual object is shown below. We include the method <code>drawCircle</code> to display the image of a circle. We set the default radius to 3 and the default colour to blue:\n"
      ]
    },
    {
      "cell_type": "code",
      "id": "225c2959-5e19-4d08-8937-c79e4ce3a612",
      "metadata": {},
      "outputs": [],
      "source": [
        "# Create a class Circle\n\nclass Circle(object):\n    \n    # Constructor\n    def __init__(self, radius=3, color='blue'):\n        self.radius = radius\n        self.color = color \n    \n    # Method\n    def add_radius(self, r):\n        self.radius = self.radius + r\n        return(self.radius)\n    \n    # Method\n    def drawCircle(self):\n        plt.gca().add_patch(plt.Circle((0, 0), radius=self.radius, fc=self.color))\n        plt.axis('scaled')\n        plt.show()  "
      ]
    },
    {
      "cell_type": "markdown",
      "id": "8fee049c-a7c1-4734-8ddc-fed2489edbd1",
      "metadata": {},
      "outputs": [],
      "source": [
        "<hr>\n"
      ]
    },
    {
      "cell_type": "markdown",
      "id": "4d5840b1-08ff-4236-ac38-cc5b47911d49",
      "metadata": {},
      "outputs": [],
      "source": [
        "<h2 id=\"circle\">Creating an instance of a class Circle</h2>\n"
      ]
    },
    {
      "cell_type": "markdown",
      "id": "4afea9c3-052c-441e-a41c-fda542062e79",
      "metadata": {},
      "outputs": [],
      "source": [
        "Let’s create the object <code>RedCircle</code> of type Circle to do the following:\n"
      ]
    },
    {
      "cell_type": "code",
      "id": "507a9c11-5c86-46cd-a0fd-980117d73b1c",
      "metadata": {},
      "outputs": [],
      "source": [
        "# Create an object RedCircle\n\nRedCircle = Circle(10, 'red')"
      ]
    },
    {
      "cell_type": "markdown",
      "id": "170f1b89-3d40-4766-8d30-4a826da9f1ec",
      "metadata": {},
      "outputs": [],
      "source": [
        "We can use the <code>dir</code> command to get a list of the object's methods. Many of them are default Python methods.\n"
      ]
    },
    {
      "cell_type": "code",
      "id": "78b7b436-a21c-49cb-8151-6b5def44cd6f",
      "metadata": {},
      "outputs": [],
      "source": [
        "# Find out the methods can be used on the object RedCircle\n\ndir(RedCircle)"
      ]
    },
    {
      "cell_type": "markdown",
      "id": "47f015be-79d4-4d6a-831c-d6e0437eafc3",
      "metadata": {},
      "outputs": [],
      "source": [
        "We can look at the data attributes of the object:\n"
      ]
    },
    {
      "cell_type": "code",
      "id": "64743586-131c-41d6-883a-5b786e7ab537",
      "metadata": {},
      "outputs": [],
      "source": [
        "# Print the object attribute radius\n\nRedCircle.radius"
      ]
    },
    {
      "cell_type": "code",
      "id": "dad836e0-b5d8-41b0-8381-67e2ac5268b8",
      "metadata": {},
      "outputs": [],
      "source": [
        "# Print the object attribute color\n\nRedCircle.color"
      ]
    },
    {
      "cell_type": "markdown",
      "id": "aa7fad95-d6a8-49e7-a393-6011b3cfba26",
      "metadata": {},
      "outputs": [],
      "source": [
        "We can change the object's data attributes:\n"
      ]
    },
    {
      "cell_type": "code",
      "id": "bb49e803-0237-458f-980a-e59aae1fc4a6",
      "metadata": {},
      "outputs": [],
      "source": [
        "# Set the object attribute radius\n\nRedCircle.radius = 1\nRedCircle.radius"
      ]
    },
    {
      "cell_type": "markdown",
      "id": "3836e473-56a9-4068-bee7-96c7ff9716be",
      "metadata": {},
      "outputs": [],
      "source": [
        "We can draw the object by using the method <code>drawCircle()</code>:\n"
      ]
    },
    {
      "cell_type": "code",
      "id": "ed0e8e0a-0310-4b88-a708-527bd1fb01dc",
      "metadata": {},
      "outputs": [],
      "source": [
        "# Call the method drawCircle\n\nRedCircle.drawCircle()"
      ]
    },
    {
      "cell_type": "markdown",
      "id": "4999f66d-8d55-456b-b96b-e163a82beea0",
      "metadata": {},
      "outputs": [],
      "source": [
        "We can increase the radius of the circle by applying the method <code>add_radius()</code>. Let's increases the radius by 2 and then by 5:\n"
      ]
    },
    {
      "cell_type": "code",
      "id": "9ced16e4-3afb-46c0-b1cb-85d06414d20b",
      "metadata": {},
      "outputs": [],
      "source": [
        "# Use method to change the object attribute radius\n\nprint('Radius of object:',RedCircle.radius)\nRedCircle.add_radius(2)\nprint('Radius of object of after applying the method add_radius(2):',RedCircle.radius)\nRedCircle.add_radius(5)\nprint('Radius of object of after applying the method add_radius(5):',RedCircle.radius)"
      ]
    },
    {
      "cell_type": "markdown",
      "id": "523937b9-8ffd-4d4b-8533-8bc9ee0f932c",
      "metadata": {},
      "outputs": [],
      "source": [
        "Let’s create a blue circle. As the default colour is blue, all we have to do is specify what the radius is:\n"
      ]
    },
    {
      "cell_type": "code",
      "id": "c355b47c-51dc-4c7d-afb4-c0553bbd22ba",
      "metadata": {},
      "outputs": [],
      "source": [
        "# Create a blue circle with a given radius\n\nBlueCircle = Circle(radius=100)"
      ]
    },
    {
      "cell_type": "markdown",
      "id": "bc1d495a-dd1c-452c-8329-50616f225a6a",
      "metadata": {},
      "outputs": [],
      "source": [
        "As before, we can access the attributes of the instance of the class by using the dot notation:\n"
      ]
    },
    {
      "cell_type": "code",
      "id": "a5ca0d0d-eb01-4d50-a88b-6ad2b6068e50",
      "metadata": {},
      "outputs": [],
      "source": [
        "# Print the object attribute radius\n\nBlueCircle.radius"
      ]
    },
    {
      "cell_type": "code",
      "id": "b4e8c43e-932e-48d4-8b11-1f63ee92d2ff",
      "metadata": {},
      "outputs": [],
      "source": [
        "# Print the object attribute color\n\nBlueCircle.color"
      ]
    },
    {
      "cell_type": "markdown",
      "id": "ce45379f-fe19-4451-a091-fbfe8378a31a",
      "metadata": {},
      "outputs": [],
      "source": [
        "We can draw the object by using the method <code>drawCircle()</code>:\n"
      ]
    },
    {
      "cell_type": "code",
      "id": "f8fb862a-d4de-4f04-8fdb-93e234925dca",
      "metadata": {},
      "outputs": [],
      "source": [
        "# Call the method drawCircle\n\nBlueCircle.drawCircle()"
      ]
    },
    {
      "cell_type": "markdown",
      "id": "6673fe4b-2599-43b4-bfd8-9ca62e185050",
      "metadata": {},
      "outputs": [],
      "source": [
        "Compare the x and y axis of the figure to the figure for <code>RedCircle</code>; they are different.\n"
      ]
    },
    {
      "cell_type": "markdown",
      "id": "decc48a4-0c56-425a-bd37-a1236e2eda2d",
      "metadata": {},
      "outputs": [],
      "source": [
        "<hr>\n"
      ]
    },
    {
      "cell_type": "markdown",
      "id": "d3791f02-661b-4e6d-a7fc-6793d2c747bb",
      "metadata": {},
      "outputs": [],
      "source": [
        "<h2 id=\"rect\">The Rectangle Class</h2>\n"
      ]
    },
    {
      "cell_type": "markdown",
      "id": "66000c38-d18b-4e6d-95cb-bdbc004c87be",
      "metadata": {},
      "outputs": [],
      "source": [
        "Let's create a class rectangle with the attributes of height, width, and color. We will only add the method to draw the rectangle object:\n"
      ]
    },
    {
      "cell_type": "code",
      "id": "b4dfb673-d820-44e2-9965-44c4bdd59e16",
      "metadata": {},
      "outputs": [],
      "source": [
        "# Create a new Rectangle class for creating a rectangle object\n\nclass Rectangle(object):\n    \n    # Constructor\n    def __init__(self, width=2, height=3, color='r'):\n        self.height = height \n        self.width = width\n        self.color = color\n    \n    # Method\n    def drawRectangle(self):\n        plt.gca().add_patch(plt.Rectangle((0, 0), self.width, self.height ,fc=self.color))\n        plt.axis('scaled')\n        plt.show()\n        "
      ]
    },
    {
      "cell_type": "markdown",
      "id": "a416b61e-cdcb-477a-a42c-a5fab58330d3",
      "metadata": {},
      "outputs": [],
      "source": [
        "Let’s create the object <code>SkinnyBlueRectangle</code> of type Rectangle. Its width will be 2 and height will be 3, and the color will be blue:\n"
      ]
    },
    {
      "cell_type": "code",
      "id": "404692d5-66c4-4cea-9c1e-bb2395e10e89",
      "metadata": {},
      "outputs": [],
      "source": [
        "# Create a new object rectangle\n\nSkinnyBlueRectangle = Rectangle(2, 3, 'blue')"
      ]
    },
    {
      "cell_type": "markdown",
      "id": "47875957-6a2e-4b2f-8ef5-15aa67c48eaf",
      "metadata": {},
      "outputs": [],
      "source": [
        "As before we can access the attributes of the instance of the class by using the dot notation:\n"
      ]
    },
    {
      "cell_type": "code",
      "id": "f8ac9999-9942-47e8-a674-9a26ae17caba",
      "metadata": {},
      "outputs": [],
      "source": [
        "# Print the object attribute height\n\nSkinnyBlueRectangle.height "
      ]
    },
    {
      "cell_type": "code",
      "id": "a4f2d008-cd5a-4a62-bb65-9415e90d101c",
      "metadata": {},
      "outputs": [],
      "source": [
        "# Print the object attribute width\n\nSkinnyBlueRectangle.width"
      ]
    },
    {
      "cell_type": "code",
      "id": "646453a8-5024-419b-b7ba-627f69fb2258",
      "metadata": {},
      "outputs": [],
      "source": [
        "# Print the object attribute color\n\nSkinnyBlueRectangle.color"
      ]
    },
    {
      "cell_type": "markdown",
      "id": "ce8108b3-c676-44de-92bc-735c20dfa453",
      "metadata": {},
      "outputs": [],
      "source": [
        "We can draw the object:\n"
      ]
    },
    {
      "cell_type": "code",
      "id": "ec044850-f121-4419-aaa3-bb793b9b0725",
      "metadata": {},
      "outputs": [],
      "source": [
        "# Use the drawRectangle method to draw the shape\n\nSkinnyBlueRectangle.drawRectangle()"
      ]
    },
    {
      "cell_type": "markdown",
      "id": "e400b7a7-c7b6-4815-8373-e7aa162745bc",
      "metadata": {},
      "outputs": [],
      "source": [
        "Let’s create the object <code>FatYellowRectangle</code> of type Rectangle:\n"
      ]
    },
    {
      "cell_type": "code",
      "id": "d02d0e8e-6395-40a5-a591-e16a46953433",
      "metadata": {},
      "outputs": [],
      "source": [
        "# Create a new object rectangle\n\nFatYellowRectangle = Rectangle(20, 5, 'yellow')"
      ]
    },
    {
      "cell_type": "markdown",
      "id": "403794a0-59ad-4065-b65c-abec2009449c",
      "metadata": {},
      "outputs": [],
      "source": [
        "We can access the attributes of the instance of the class by using the dot notation:\n"
      ]
    },
    {
      "cell_type": "code",
      "id": "6533c2f2-f97d-4482-b77a-77d4792eaab0",
      "metadata": {},
      "outputs": [],
      "source": [
        "# Print the object attribute height\n\nFatYellowRectangle.height "
      ]
    },
    {
      "cell_type": "code",
      "id": "7aa8899b-5e5d-41df-aa6b-07ca5f4b9202",
      "metadata": {},
      "outputs": [],
      "source": [
        "# Print the object attribute width\n\nFatYellowRectangle.width"
      ]
    },
    {
      "cell_type": "code",
      "id": "6a532a54-0d08-4c7e-88c6-ab6637f82e11",
      "metadata": {},
      "outputs": [],
      "source": [
        "# Print the object attribute color\n\nFatYellowRectangle.color"
      ]
    },
    {
      "cell_type": "markdown",
      "id": "669ae86f-4ca3-4d2c-ae94-6d5f267b57d0",
      "metadata": {},
      "outputs": [],
      "source": [
        "We can draw the object:\n"
      ]
    },
    {
      "cell_type": "code",
      "id": "f94cfe4c-a463-47df-87ae-98ce1077043f",
      "metadata": {},
      "outputs": [],
      "source": [
        "# Use the drawRectangle method to draw the shape\n\nFatYellowRectangle.drawRectangle()"
      ]
    },
    {
      "cell_type": "markdown",
      "id": "b58d0bd2-7266-459d-a38f-0f79623b617e",
      "metadata": {},
      "outputs": [],
      "source": [
        "<hr>\n"
      ]
    },
    {
      "cell_type": "markdown",
      "id": "183004ad-2959-4bab-808a-902821717bf8",
      "metadata": {},
      "outputs": [],
      "source": [
        "<center>\n",
        "    \n",
        "# Scenario: Car dealership's inventory management system\n",
        "\n",
        "</center>\n"
      ]
    },
    {
      "cell_type": "markdown",
      "id": "97e1ca65-4d1d-41c6-b1d3-f0d64e535d60",
      "metadata": {},
      "outputs": [],
      "source": [
        "You are working on a Python program to simulate a car dealership's inventory management system. The system aims to model cars and their attributes accurately.\n"
      ]
    },
    {
      "cell_type": "markdown",
      "id": "6c1417d6-6b73-4b7b-b4f8-379f48765317",
      "metadata": {},
      "outputs": [],
      "source": [
        "### Task-1. You are tasked with creating a Python program to represent vehicles using a class. Each car should have attributes for maximum speed and mileage. \n"
      ]
    },
    {
      "cell_type": "code",
      "id": "de5541d5-6ce5-457f-b3e0-523fe6981ee3",
      "metadata": {},
      "outputs": [],
      "source": [
        "#Type your code here"
      ]
    },
    {
      "cell_type": "markdown",
      "id": "885a944d-cf59-4285-b5e7-fc1b71a107a5",
      "metadata": {},
      "outputs": [],
      "source": [
        "<details><summary>Click here for the solution</summary>\n",
        "\n",
        "```python\n",
        "\n",
        "class Vehicle:\n",
        "    def __init__(self, max_speed, mileage):\n",
        "        self.max_speed = max_speed\n",
        "        self.mileage = mileage\n",
        "        \n",
        "```\n",
        "\n",
        "</details>\n"
      ]
    },
    {
      "cell_type": "markdown",
      "id": "79fc51f7-11f4-4b89-a6b1-e18725643865",
      "metadata": {},
      "outputs": [],
      "source": [
        "### Task-2. Update the class with the default color for all vehicles,\" white\".\n"
      ]
    },
    {
      "cell_type": "code",
      "id": "b5ab95ff-529a-410c-bcdd-63db7e9fbda4",
      "metadata": {},
      "outputs": [],
      "source": [
        "#Type your code here"
      ]
    },
    {
      "cell_type": "markdown",
      "id": "0c473c97-e9eb-49cf-891c-775dad9dfde0",
      "metadata": {},
      "outputs": [],
      "source": [
        "<details><summary>Click here for the solution</summary>\n",
        "\n",
        "```python\n",
        "\n",
        "class Vehicle:\n",
        "    color = \"white\"\n",
        "\n",
        "    def __init__(self, max_speed, mileage):\n",
        "        self.max_speed = max_speed\n",
        "        self.mileage = mileage\n",
        "        \n",
        "```\n",
        "\n",
        "</details>\n"
      ]
    },
    {
      "cell_type": "markdown",
      "id": "5916b587-07b2-4f06-8849-8a9ab3136b77",
      "metadata": {},
      "outputs": [],
      "source": [
        "### Task-3. Additionally, you need to create methods in the Vehicle class to assign seating capacity to a vehicle. \n"
      ]
    },
    {
      "cell_type": "code",
      "id": "55008d75-6a99-4ac6-bf0a-5a29b6229331",
      "metadata": {},
      "outputs": [],
      "source": [
        "#Type your code here"
      ]
    },
    {
      "cell_type": "markdown",
      "id": "8275f1c4-83f9-4672-bbbb-823f80708968",
      "metadata": {},
      "outputs": [],
      "source": [
        "<details><summary>Click here for the solution</summary>\n",
        "\n",
        "```python\n",
        "\n",
        "class Vehicle:\n",
        "    color = \"white\"\n",
        "\n",
        "    def __init__(self, max_speed, mileage):\n",
        "        self.max_speed = max_speed\n",
        "        self.mileage = mileage\n",
        "        self.seating_capacity = None\n",
        "\n",
        "    def assign_seating_capacity(self, seating_capacity):\n",
        "        self.seating_capacity = seating_capacity\n",
        "```\n",
        "\n",
        "</details>\n"
      ]
    },
    {
      "cell_type": "markdown",
      "id": "8773929c-1fc2-405c-be8e-929fd03eb577",
      "metadata": {},
      "outputs": [],
      "source": [
        "### Task-4. Create a method to display all the properties of an object of the class. \n"
      ]
    },
    {
      "cell_type": "code",
      "id": "7cec8604-12e6-4249-94b8-1ed59e713a24",
      "metadata": {},
      "outputs": [],
      "source": [
        "#Type your code here"
      ]
    },
    {
      "cell_type": "markdown",
      "id": "8e7685ec-3740-41b6-8404-37c3c45b1e48",
      "metadata": {},
      "outputs": [],
      "source": [
        "<details><summary>Click here for the solution</summary>\n",
        "\n",
        "```python\n",
        "class Vehicle:\n",
        "    color = \"white\"\n",
        "\n",
        "    def __init__(self, max_speed, mileage):\n",
        "        self.max_speed = max_speed\n",
        "        self.mileage = mileage\n",
        "        self.seating_capacity = None\n",
        "\n",
        "    def assign_seating_capacity(self, seating_capacity):\n",
        "        self.seating_capacity = seating_capacity\n",
        "\n",
        "    def display_properties(self):\n",
        "        print(\"Properties of the Vehicle:\")\n",
        "        print(\"Color:\", self.color)\n",
        "        print(\"Maximum Speed:\", self.max_speed)\n",
        "        print(\"Mileage:\", self.mileage)\n",
        "        print(\"Seating Capacity:\", self.seating_capacity)\n",
        "        \n",
        "```\n",
        "\n",
        "</details>\n"
      ]
    },
    {
      "cell_type": "markdown",
      "id": "75500209-8fcd-4248-a7ba-bb17ed13f826",
      "metadata": {},
      "outputs": [],
      "source": [
        "### Task-5. Additionally, you need to create two objects of the Vehicle class object that should have a max speed of 200kph and mileage of 50000kmpl with five seating capacities, and another car object should have a max speed of 180kph and 75000kmpl with four seating capacities.\n"
      ]
    },
    {
      "cell_type": "code",
      "id": "f53a3a95-20ca-4126-b676-a9f19e98a411",
      "metadata": {},
      "outputs": [],
      "source": [
        "#Type your code here"
      ]
    },
    {
      "cell_type": "markdown",
      "id": "6879712a-bdf1-46ca-8699-31412f1f2396",
      "metadata": {},
      "outputs": [],
      "source": [
        "<details><summary>Click here for the solution</summary>\n",
        "\n",
        "```python\n",
        "class Vehicle:\n",
        "    color = \"white\"\n",
        "\n",
        "    def __init__(self, max_speed, mileage):\n",
        "        self.max_speed = max_speed\n",
        "        self.mileage = mileage\n",
        "        self.seating_capacity = None\n",
        "\n",
        "    def assign_seating_capacity(self, seating_capacity):\n",
        "        self.seating_capacity = seating_capacity\n",
        "\n",
        "    def display_properties(self):\n",
        "        print(\"Properties of the Vehicle:\")\n",
        "        print(\"Color:\", self.color)\n",
        "        print(\"Maximum Speed:\", self.max_speed)\n",
        "        print(\"Mileage:\", self.mileage)\n",
        "        print(\"Seating Capacity:\", self.seating_capacity)\n",
        "\n",
        "# Creating objects of the Vehicle class\n",
        "vehicle1 = Vehicle(200, 50000)\n",
        "vehicle1.assign_seating_capacity(5)\n",
        "vehicle1.display_properties()\n",
        "\n",
        "vehicle2 = Vehicle(180, 75000)\n",
        "vehicle2.assign_seating_capacity(4)\n",
        "vehicle2.display_properties()\n",
        "\n",
        "```\n",
        "\n",
        "</details>\n"
      ]
    },
    {
      "cell_type": "markdown",
      "id": "eb6d3e74-09cb-4f3a-82f5-164e8fabf984",
      "metadata": {},
      "outputs": [],
      "source": [
        "<h2 id=\"rect\">Exercises</h2>\n"
      ]
    },
    {
      "cell_type": "markdown",
      "id": "734883c7-f23e-4ad9-b8a5-1c6d002ae6ef",
      "metadata": {},
      "outputs": [],
      "source": [
        "<h4> Text Analysis </h4>\n"
      ]
    },
    {
      "cell_type": "markdown",
      "id": "f941136b-053c-49b1-a5b7-0b613e7606a0",
      "metadata": {},
      "outputs": [],
      "source": [
        "You have been recruited by your friend, a linguistics enthusiast, to create a utility tool that can perform analysis on a given piece of text. Complete the class\n",
        "'analysedText' with the following methods -\n",
        "\n",
        "<ul>\n",
        "    <li> Constructor (__init__) - This method should take the argument <code>text</code>, make it lower case, and remove all punctuation.  Assume only the following punctuation is used: period (.), exclamation mark (!), comma (,) and question mark (?). Assign this newly formatted text to a new attribute called <code>fmtText</code>.\n",
        "    <li> freqAll - This method should create and <strong>return</strong> dictionary of all unique words in the text, along with the number of times they occur in the text. Each key in the dictionary should be the unique word appearing in the text and the associated value should be the number of times it occurs in the text. Create this dictionary from the <code>fmtText</code> attribute.\n",
        "    <li> freqOf - This method should take a word as an argument and <strong>return</strong> the number of occurrences of that word in <code>fmtText</code>.\n",
        "</ul>\n",
        " The skeleton code has been given to you. Docstrings can be ignored for the purpose of the exercise. <br>\n",
        " <i> Hint: Some useful functions are <code>replace()</code>, <code>lower()</code>, <code>split()</code>, <code>count()</code> </i><br>\n"
      ]
    },
    {
      "cell_type": "markdown",
      "id": "d210278e-817f-434d-af7e-5fff8ed615c8",
      "metadata": {},
      "outputs": [],
      "source": [
        "<details><summary>Hint for implementing Constructor</summary>\n",
        "\n",
        "The <code>lower()</code> function converts all characters in the string to lowercase.\n",
        "\n",
        "The <code>replace()</code> function takes two arguments: the text to search for and the text to replace it with. Try calling this function for each punctuation you want to remove and replace it with a blank character, <code>''</code>\n",
        "\n",
        "You can define a class attribute and assign it a value with the following generic recipe: <code>self.attribute_name = value</code>\n",
        "\n",
        "</details>\n"
      ]
    },
    {
      "cell_type": "markdown",
      "id": "e36623db-c004-4b75-9e54-f9d9fd5bed7e",
      "metadata": {},
      "outputs": [],
      "source": [
        "<details><summary>Hint for implementing freqAll</summary>\n",
        "\n",
        "You can create a list of all words in <code>fmtText</code> using the <code>split()</code> and by using the whitespace character, <code>' '</code> as the delimiter.\n",
        "\n",
        "Using <code>set()</code> with a list as the argument will return a set with all the unique elements in the list. Try iterating over the elements in this set to create the keys for a dictionary. The <code>count()</code> function will return the number of occurrences of the argument in list. For example, <code>\\[\"hi\", \"hi\", \"hello\"].count(\"hi\")</code> will return 2. This can be used to set the values for each key-value pair in the dictionary.\n",
        "\n",
        "</details>\n"
      ]
    },
    {
      "cell_type": "markdown",
      "id": "7dadfbab-84ca-42fb-8515-a773115c6d1e",
      "metadata": {},
      "outputs": [],
      "source": [
        "<details><summary>Hint for implementing freqOf</summary>\n",
        "\n",
        "Try calling the <code>freqAll</code> method you implemented above and assign it to a variable. You will now have a dictionary with the unique words that appear in fmtText as the keys, and the number of times they appear as the value.\n",
        "\n",
        "You can use this dictionary to return the number of occurrences of the word that was given as an argument to the <code>freqOf</code> method.\n",
        "\n",
        "If the word given as an argument does not appear in the text, return 0. You can check if a string is a key in the dictionary using the following code recipe: <code>if item in my_dictionary:</code>\n",
        "\n",
        "</details>\n"
      ]
    },
    {
      "cell_type": "code",
      "id": "b53ef25e-fe49-4be6-89a3-3e74230404ba",
      "metadata": {},
      "outputs": [],
      "source": [
        "class analysedText(object):\n    \n    def __init__ (self, text):\n\n        # TODO: Remove the punctuation from <text> and make it lower case.\n\n        # TODO: Assign the formatted text to a new attribute called \"fmtText\"\n        \n        pass \n    \n    def freqAll(self):    \n\n        # TODO: Split the text into a list of words  \n\n        # TODO: Create a dictionary with the unique words in the text as keys\n        # and the number of times they occur in the text as values\n      \n        pass # return the created dictionary\n    \n    def freqOf(self, word):\n\n        # TODO: return the number of occurrences of <word> in <fmtText>\n\n        pass\n        "
      ]
    },
    {
      "cell_type": "markdown",
      "id": "bf70c29f-8cab-4c48-846c-2d41b3c5e41a",
      "metadata": {},
      "outputs": [],
      "source": [
        "You can run the code cell below to test your functions to ensure they are working correctly. First execute the code cell in which you implemented your solution, then execute the code cell to test your implementation.\n"
      ]
    },
    {
      "cell_type": "code",
      "id": "501e7cec-453a-46b6-b39d-56add8851bd1",
      "metadata": {},
      "outputs": [],
      "source": [
        "import sys\n\nsampleMap = {'eirmod': 1,'sed': 1, 'amet': 2, 'diam': 5, 'consetetur': 1, 'labore': 1, 'tempor': 1, 'dolor': 1, 'magna': 2, 'et': 3, 'nonumy': 1, 'ipsum': 1, 'lorem': 2}\n\ndef testMsg(passed):\n    if passed:\n       return 'Test Passed'\n    else :\n       return 'Test Failed'\n\nprint(\"Constructor: \")\ntry:\n    samplePassage = analysedText(\"Lorem ipsum dolor! diam amet, consetetur Lorem magna. sed diam nonumy eirmod tempor. diam et labore? et diam magna. et diam amet.\")\n    print(testMsg(samplePassage.fmtText == \"lorem ipsum dolor diam amet consetetur lorem magna sed diam nonumy eirmod tempor diam et labore et diam magna et diam amet\"))\nexcept:\n    print(\"Error detected. Recheck your function \" )\nprint(\"freqAll: \")\ntry:\n    wordMap = samplePassage.freqAll()\n    print(testMsg(wordMap==sampleMap))\nexcept:\n    print(\"Error detected. Recheck your function \" )\nprint(\"freqOf: \")\ntry:\n    passed = True\n    for word in sampleMap:\n        if samplePassage.freqOf(word) != sampleMap[word]:\n            passed = False\n            break\n    print(testMsg(passed))\n    \nexcept:\n    print(\"Error detected. Recheck your function  \" )\n    "
      ]
    },
    {
      "cell_type": "markdown",
      "id": "b69c8db4-91f1-4d3b-be08-003b688b4e09",
      "metadata": {},
      "outputs": [],
      "source": [
        "<details><summary>Click here for the solution</summary>\n",
        "\n",
        "```python\n",
        "class analysedText(object):\n",
        "    \n",
        "    def __init__ (self, text):\n",
        "        # remove punctuation\n",
        "        formattedText = text.replace('.','').replace('!','').replace('?','').replace(',','')\n",
        "        \n",
        "        # make text lowercase\n",
        "        formattedText = formattedText.lower()\n",
        "        \n",
        "        self.fmtText = formattedText\n",
        "        \n",
        "    def freqAll(self):        \n",
        "        # split text into words\n",
        "        wordList = self.fmtText.split(' ')\n",
        "        \n",
        "        # Create dictionary\n",
        "        freqMap = {}\n",
        "        for word in set(wordList): # use set to remove duplicates in list\n",
        "            freqMap[word] = wordList.count(word)\n",
        "        \n",
        "        return freqMap\n",
        "    \n",
        "    def freqOf(self,word):\n",
        "        # get frequency map\n",
        "        freqDict = self.freqAll()\n",
        "        \n",
        "        if word in freqDict:\n",
        "            return freqDict[word]\n",
        "        else:\n",
        "            return 0\n",
        "    \n",
        "```\n",
        "\n",
        "</details>\n"
      ]
    },
    {
      "cell_type": "markdown",
      "id": "c5801b89-11aa-4b60-8a3e-3428d7d17d5b",
      "metadata": {},
      "outputs": [],
      "source": [
        "<hr>\n",
        "<h2>The last exercise!</h2>\n",
        "<p>Congratulations, you have completed your first lesson and hands-on lab in Python. \n",
        "<hr>\n"
      ]
    },
    {
      "cell_type": "markdown",
      "id": "50189c17-01bd-40a7-be74-cd3f740c597b",
      "metadata": {},
      "outputs": [],
      "source": [
        "## Author\n",
        "\n",
        "<a href=\"https://www.linkedin.com/in/joseph-s-50398b136/?utm_medium=Exinfluencer&utm_source=Exinfluencer&utm_content=000026UJ&utm_term=10006555&utm_id=NA-SkillsNetwork-Channel-SkillsNetworkCoursesIBMDeveloperSkillsNetworkPY0101ENSkillsNetwork19487395-2021-01-01\">Joseph Santarcangelo</a>\n",
        "\n",
        "## Other contributors\n",
        "\n",
        "<a href=\"https://www.linkedin.com/in/jiahui-mavis-zhou-a4537814a?utm_medium=Exinfluencer&utm_source=Exinfluencer&utm_content=000026UJ&utm_term=10006555&utm_id=NA-SkillsNetwork-Channel-SkillsNetworkCoursesIBMDeveloperSkillsNetworkPY0101ENSkillsNetwork19487395-2021-01-01\">Mavis Zhou</a>\n",
        "\n",
        "## Change Log\n",
        "\n",
        "| Date (YYYY-MM-DD) | Version | Changed By | Change Description                 |\n",
        "| ----------------- | ------- | ---------- | ---------------------------------- |\n",
        "| 2023-05-16        | 2.2     |Akansha Yadav | updated lab under maintenance   |\n",
        "| 2022-01-10        | 2.1     | Malika     | Removed the readme for GitShare    |\n",
        "| 2020-08-26        | 2.0     | Lavanya    | Moved lab to course repo in GitLab |\n",
        "|                   |         |            |                                    |\n",
        "|                   |         |            |                                    |\n",
        "\n",
        "<hr/>\n",
        "\n",
        "## <h3 align=\"center\"> © IBM Corporation 2020. All rights reserved. <h3/>\n"
      ]
    },
    {
      "cell_type": "code",
      "id": "6db24be2-8473-4d05-a374-91a3414f5431",
      "metadata": {},
      "outputs": [],
      "source": [
        ""
      ]
    }
  ],
  "metadata": {
    "kernelspec": {
      "display_name": "Python",
      "language": "python",
      "name": "conda-env-python-py"
    },
    "language_info": {
      "name": ""
    }
  },
  "nbformat": 4,
  "nbformat_minor": 4
}